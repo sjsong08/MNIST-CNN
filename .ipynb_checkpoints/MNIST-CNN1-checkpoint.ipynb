{
 "cells": [
  {
   "cell_type": "code",
   "execution_count": 2,
   "metadata": {
    "collapsed": false,
    "deletable": true,
    "editable": true
   },
   "outputs": [],
   "source": [
    "import numpy as np\n",
    "import matplotlib.pyplot as plt\n",
    "import matplotlib.image as mpimg\n",
    "import tensorflow as tf\n",
    "\n",
    "from tensorflow.examples.tutorials.mnist import input_data\n",
    "import skimage.io\n",
    "%matplotlib inline\n"
   ]
  },
  {
   "cell_type": "code",
   "execution_count": 3,
   "metadata": {
    "collapsed": false,
    "deletable": true,
    "editable": true
   },
   "outputs": [
    {
     "name": "stdout",
     "output_type": "stream",
     "text": [
      "Extracting data/train-images-idx3-ubyte.gz\n",
      "Extracting data/train-labels-idx1-ubyte.gz\n",
      "Extracting data/t10k-images-idx3-ubyte.gz\n",
      "Extracting data/t10k-labels-idx1-ubyte.gz\n"
     ]
    }
   ],
   "source": [
    "tf.reset_default_graph()\n",
    "mnist   = input_data.read_data_sets('data/', one_hot=True)\n",
    "TRimg   = mnist.train.images\n",
    "TRlable = mnist.train.labels\n",
    "TSimg   = mnist.test.images\n",
    "TSlabel = mnist.test.labels"
   ]
  },
  {
   "cell_type": "code",
   "execution_count": 4,
   "metadata": {
    "collapsed": false,
    "deletable": true,
    "editable": true
   },
   "outputs": [],
   "source": [
    "n_input = 784\n",
    "n_output = 10\n",
    "\n",
    "d = \"/gpu:0\"\n",
    "with tf.device(d):\n",
    "    weights = {\n",
    "        'wc1': tf.Variable(tf.random_normal([3,3,1,64], stddev=0.1)),\n",
    "        'wd1': tf.Variable(tf.random_normal([14*14*64, n_output], stddev=0.1))\n",
    "    }\n",
    "    biases = {\n",
    "        'bc1': tf.Variable(tf.random_normal([64], stddev=0.1)),\n",
    "        'bd1': tf.Variable(tf.random_normal([n_output], stddev=0.1))\n",
    "    }\n",
    "    x = tf.placeholder(tf.float32, [None, n_input])\n",
    "    y = tf.placeholder(tf.float32, [None, n_output])\n"
   ]
  },
  {
   "cell_type": "code",
   "execution_count": 5,
   "metadata": {
    "collapsed": true,
    "deletable": true,
    "editable": true
   },
   "outputs": [],
   "source": [
    "def conv_simple(_input, _w, _b):\n",
    "    _input_r = tf.reshape(_input, shape=[-1, 28, 28, 1])\n",
    "    _conv1   = tf.nn.conv2d(_input_r, _w['wc1'], strides=[1,1,1,1], padding='SAME')\n",
    "    _conv2   = tf.nn.bias_add(_conv1, _b['bc1'])\n",
    "    _conv3   = tf.nn.sigmoid(_conv2)\n",
    "    _pool1   = tf.nn.max_pool(_conv1, ksize=[1,2,2,1], strides=[1,2,2,1], padding='SAME')\n",
    "    _dense   = tf.reshape(_pool1, [-1, _w['wd1'].get_shape().as_list()[0]])\n",
    "    _out     = tf.add(tf.matmul(_dense, _w['wd1']), _b['bd1'])\n",
    "    \n",
    "    out = {\n",
    "        'input_r': _input_r, 'conv1': _conv1, 'conv2' : _conv2, 'conv3' : _conv3, 'pool1': _pool1, 'dense': _dense, 'out': _out\n",
    "    }\n",
    "    return out\n",
    "                                    \n",
    "    "
   ]
  },
  {
   "cell_type": "code",
   "execution_count": 6,
   "metadata": {
    "collapsed": false,
    "deletable": true,
    "editable": true
   },
   "outputs": [],
   "source": [
    "learning_rate   = 0.001\n",
    "training_epochs = 10\n",
    "batch_size      = 100\n",
    "display_step    = 1\n",
    "\n",
    "save_step = 1;\n",
    "savedir = \"nets/\"\n",
    "saver = tf.train.Saver(max_to_keep=10)\n",
    "\n",
    "for d in ['/gpu:0', '/gpu:1', '/gpu:2']:\n",
    "    with tf.device(d):\n",
    "        pred = conv_simple(x, weights, biases)['out']\n",
    "        cost = tf.reduce_mean(tf.nn.softmax_cross_entropy_with_logits(logits=pred, labels=y))#\n",
    "        optm = tf.train.GradientDescentOptimizer(learning_rate=learning_rate).minimize(cost)\n",
    "        corr = tf.equal(tf.argmax(pred,1), tf.argmax(y,1))\n",
    "        accr = tf.reduce_mean(tf.cast(corr, tf.float32))\n",
    "        init = tf.global_variables_initializer()\n"
   ]
  },
  {
   "cell_type": "code",
   "execution_count": null,
   "metadata": {
    "collapsed": false,
    "deletable": true,
    "editable": true
   },
   "outputs": [],
   "source": [
    "\n",
    "with tf.device('/gpu:0'):  \n",
    "    sess = tf.Session()\n",
    "    sess.run(init)\n",
    "\n",
    "    for epoch in range(training_epochs):\n",
    "        avg_cost = 0.\n",
    "        total_interation = int(mnist.train.num_examples/batch_size)\n",
    "        for i in range(total_interation):\n",
    "            batch_xs, batch_ys = mnist.train.next_batch(batch_size)\n",
    "            sess.run(optm, feed_dict={x: batch_xs, y: batch_ys})\n",
    "            avg_cost += sess.run(cost, feed_dict={x: batch_xs, y: batch_ys})/total_interation\n",
    "\n",
    "        if epoch % display_step ==0:\n",
    "            print(\"Epoch: %03d/%03d cost: %.4f\" %(epoch, training_epochs, avg_cost))\n",
    "            train_acc = sess.run(accr, feed_dict={x:batch_xs, y:batch_ys})\n",
    "            test_acc = sess.run(accr, feed_dict={x:TSimg, y:TSlabel})\n",
    "            print(\"Training acc: %.3f, Test acc: %.3f\" %(train_acc, test_acc))\n",
    "\n",
    "        if epoch % save_step == 0:\n",
    "            saver.save(sess, \"nets/cnn_mnist_simple.ckpt-\" + str(epoch))\n"
   ]
  },
  {
   "cell_type": "code",
   "execution_count": null,
   "metadata": {
    "collapsed": false,
    "deletable": true,
    "editable": true
   },
   "outputs": [],
   "source": [
    "epoch = 0\n",
    "saver.restore(sess, \"nets/cnn_mnist_simple.ckpt-\" + str(epoch))\n",
    "print (\"NETWORK RESTORED\")"
   ]
  },
  {
   "cell_type": "code",
   "execution_count": null,
   "metadata": {
    "collapsed": false,
    "deletable": true,
    "editable": true
   },
   "outputs": [],
   "source": [
    "filter1=weights['wc1'][:,:,0,0]\n",
    "fout=sess.run(filter1)\n",
    "plt.imshow(fout, interpolation='none', cmap=plt.get_cmap('gray'))\n",
    "fout"
   ]
  },
  {
   "cell_type": "code",
   "execution_count": null,
   "metadata": {
    "collapsed": false,
    "deletable": true,
    "editable": true
   },
   "outputs": [],
   "source": [
    "x1=TRimg[10,:]\n",
    "imgin=sess.run(conv_simple(x1, weights, biases)['input_r'][0,:,:,0])\n",
    "imgconv1=sess.run(conv_simple(x1, weights,biases)['conv1'][0,:,:,2])\n",
    "imgconv2=sess.run(conv_simple(x1, weights,biases)['conv2'][0,:,:,2])\n",
    "imgconv3=sess.run(conv_simple(x1, weights,biases)['conv3'][0,:,:,2])\n",
    "imgpool=sess.run(conv_simple(x1, weights, biases)['pool1'][0,:,:,0])\n",
    "\n",
    "plt.figure(1)\n",
    "plt.matshow(imgin, cmap=plt.get_cmap('gray'))\n",
    "plt.title(\"input image\")\n",
    "plt.colorbar()\n",
    "plt.figure(2)\n",
    "plt.matshow(imgconv1, interpolation='none', cmap=plt.get_cmap('gray'))\n",
    "plt.title(\"convolution\")\n",
    "plt.figure(3)\n",
    "plt.matshow(imgconv2, interpolation='none', cmap=plt.get_cmap('gray'))\n",
    "plt.title(\"bias add\")\n",
    "plt.figure(4)\n",
    "plt.matshow(imgconv3, interpolation='none', cmap=plt.get_cmap('gray'))\n",
    "plt.title(\"sigmoid\")\n",
    "plt.figure(5)\n",
    "plt.matshow(imgpool, cmap=plt.get_cmap('gray'))\n",
    "plt.title(\"max pooling\")"
   ]
  },
  {
   "cell_type": "code",
   "execution_count": null,
   "metadata": {
    "collapsed": false,
    "deletable": true,
    "editable": true
   },
   "outputs": [],
   "source": [
    "epoch = 9\n",
    "saver.restore(sess, \"nets/cnn_mnist_simple.ckpt-\" + str(epoch))\n",
    "print (\"NETWORK RESTORED\")"
   ]
  },
  {
   "cell_type": "code",
   "execution_count": null,
   "metadata": {
    "collapsed": false,
    "deletable": true,
    "editable": true
   },
   "outputs": [],
   "source": [
    "filter1=weights['wc1'][:,:,0,0]\n",
    "fout=sess.run(filter1)\n",
    "plt.imshow(fout, interpolation='none', cmap=plt.get_cmap('gray'))\n",
    "fout"
   ]
  },
  {
   "cell_type": "code",
   "execution_count": null,
   "metadata": {
    "collapsed": false,
    "deletable": true,
    "editable": true
   },
   "outputs": [],
   "source": [
    "x1=TRimg[10,:]\n",
    "imgin=sess.run(conv_simple(x1, weights, biases)['input_r'][0,:,:,0])\n",
    "imgconv1=sess.run(conv_simple(x1, weights,biases)['conv1'][0,:,:,2])\n",
    "imgconv2=sess.run(conv_simple(x1, weights,biases)['conv2'][0,:,:,2])\n",
    "imgconv3=sess.run(conv_simple(x1, weights,biases)['conv3'][0,:,:,2])\n",
    "imgpool=sess.run(conv_simple(x1, weights, biases)['pool1'][0,:,:,0])\n",
    "\n",
    "plt.figure(1)\n",
    "plt.matshow(imgin, cmap=plt.get_cmap('gray'))\n",
    "plt.title(\"input image\")\n",
    "plt.colorbar()\n",
    "plt.figure(2)\n",
    "plt.matshow(imgconv1, interpolation='none', cmap=plt.get_cmap('gray'))\n",
    "plt.title(\"convolution\")\n",
    "plt.figure(3)\n",
    "plt.matshow(imgconv2, interpolation='none', cmap=plt.get_cmap('gray'))\n",
    "plt.title(\"bias add\")\n",
    "plt.figure(4)\n",
    "plt.matshow(imgconv3, interpolation='none', cmap=plt.get_cmap('gray'))\n",
    "plt.title(\"sigmoid\")\n",
    "plt.figure(5)\n",
    "plt.matshow(imgpool, cmap=plt.get_cmap('gray'))\n",
    "plt.title(\"max pooling\")"
   ]
  }
 ],
 "metadata": {
  "kernelspec": {
   "display_name": "Python 2",
   "language": "python",
   "name": "python2"
  },
  "language_info": {
   "codemirror_mode": {
    "name": "ipython",
    "version": 2
   },
   "file_extension": ".py",
   "mimetype": "text/x-python",
   "name": "python",
   "nbconvert_exporter": "python",
   "pygments_lexer": "ipython2",
   "version": "2.7.12"
  }
 },
 "nbformat": 4,
 "nbformat_minor": 1
}
