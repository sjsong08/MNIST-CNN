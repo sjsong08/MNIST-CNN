{
 "cells": [
  {
   "cell_type": "code",
   "execution_count": 1,
   "metadata": {
    "collapsed": false
   },
   "outputs": [
    {
     "name": "stdout",
     "output_type": "stream",
     "text": [
      "Extracting data/train-images-idx3-ubyte.gz\n",
      "Extracting data/train-labels-idx1-ubyte.gz\n",
      "Extracting data/t10k-images-idx3-ubyte.gz\n",
      "Extracting data/t10k-labels-idx1-ubyte.gz\n"
     ]
    }
   ],
   "source": [
    "import numpy as np\n",
    "import tensorflow as tf\n",
    "import matplotlib.pyplot as plt\n",
    "from tensorflow.examples.tutorials.mnist import input_data\n",
    "\n",
    "mnist   = input_data.read_data_sets('data/', one_hot=True)\n",
    "trainimg = mnist.train.images\n",
    "trainlabel = mnist.train.labels\n",
    "testimg = mnist.test.images\n",
    "testlabel = mnist.test.labels\n"
   ]
  },
  {
   "cell_type": "code",
   "execution_count": 2,
   "metadata": {
    "collapsed": false
   },
   "outputs": [
    {
     "name": "stdout",
     "output_type": "stream",
     "text": [
      "WARNING:tensorflow:From <ipython-input-2-4b26f6da293d>:69: initialize_all_variables (from tensorflow.python.ops.variables) is deprecated and will be removed after 2017-03-02.\n",
      "Instructions for updating:\n",
      "Use `tf.global_variables_initializer` instead.\n"
     ]
    }
   ],
   "source": [
    "device_type = \"/gpu\"\n",
    "with tf.device(device_type):\n",
    "    learning_rate = 0.01\n",
    "    training_epochs = 20\n",
    "    batch_size = 100\n",
    "    display_step = 5\n",
    "    \n",
    "    n_input = 784\n",
    "    n_output= 10\n",
    "\n",
    "    with tf.variable_scope(\"CNN_WEIGHTS\"):\n",
    "        weights = {\n",
    "            'wc1' :tf.Variable(tf.random_normal([3,3,1,64], stddev=0.1)),\n",
    "            'wc2' :tf.Variable(tf.random_normal([3,3,64,128], stddev=0.1)),\n",
    "            'wd1' :tf.Variable(tf.random_normal([7*7*128,1024], stddev=0.1)),\n",
    "            'wd2' :tf.Variable(tf.random_normal([1024, n_output], stddev=0.1))\n",
    "        }\n",
    "    with tf.variable_scope(\"CNN_BIASES\"):\n",
    "        biases ={\n",
    "            'bc1' :tf.Variable(tf.random_normal([64], stddev=0.1)),\n",
    "            'bc2' :tf.Variable(tf.random_normal([128], stddev=0.1)),\n",
    "            'bd1' :tf.Variable(tf.random_normal([1024], stddev=0.1)),\n",
    "            'bd2' :tf.Variable(tf.random_normal([n_output], stddev=0.1))\n",
    "        }\n",
    "        \n",
    "    def conv_basic(_input, _w, _b, _keepratio):\n",
    "        with tf.variable_scope(\"INPUT_LAYER\"):\n",
    "            _input_r = tf.reshape(_input, shape=[-1,28,28,1])\n",
    "        \n",
    "        with tf.variable_scope(\"CNN_CONV_1\"):\n",
    "            _conv1 = tf.nn.relu(tf.nn.bias_add(tf.nn.conv2d(_input_r, _w['wc1'], strides=[1,1,1,1], padding='SAME'), _b['bc1']))\n",
    "        \n",
    "        with tf.variable_scope(\"CNN_POOL_1\"):\n",
    "            _pool1 = tf.nn.max_pool(_conv1, ksize=[1,2,2,1], strides=[1,2,2,1], padding='SAME')\n",
    "            _pool_dr1 = tf.nn.dropout(_pool1, keepratio)\n",
    "            \n",
    "        with tf.variable_scope(\"CNN_CONV_2\"):\n",
    "            _conv2 = tf.nn.relu(tf.nn.bias_add(tf.nn.conv2d(_pool_dr1, _w['wc2'], strides=[1,1,1,1], padding='SAME'), _b['bc2']))\n",
    "            \n",
    "        with tf.variable_scope(\"CNN_POOL_2\"):\n",
    "            _pool2 = tf.nn.max_pool(_conv2, ksize=[1,2,2,1], strides=[1,2,2,1], padding='SAME')\n",
    "            _pool_dr2 = tf.nn.dropout(_pool2, keepratio)\n",
    "            \n",
    "        with tf.variable_scope(\"FC_1\"):\n",
    "            _dense1 = tf.reshape(_pool_dr2, [-1, _w['wd1'].get_shape().as_list()[0]])\n",
    "            _fc1 = tf.nn.relu(tf.add(tf.matmul(_dense1, _w['wd1']), _b['bd1']))\n",
    "            _fc_dr1 = tf.nn.dropout(_fc1, _keepratio)\n",
    "        \n",
    "        with tf.variable_scope(\"FC_2\"):\n",
    "            _out = tf.add(tf.matmul(_fc_dr1, _w['wd2']), _b['bd2'])\n",
    "            \n",
    "        out = {\n",
    "            'input_r':_input_r, 'conv1':_conv1, 'pool1':_pool1, 'pool_dr1': _pool_dr1,\n",
    "            'conv2':_conv2, 'pool2':_pool2, 'pool_dr2':_pool_dr2, 'dense1': _dense1,\n",
    "            'fc1':_fc1, 'fc_dr1':_fc_dr1, 'out':_out\n",
    "        }\n",
    "        return out\n",
    "            \n",
    "        \n",
    "    x = tf.placeholder(tf.float32, [None, n_input], name=\"CNN_INPUT_x\")\n",
    "    y = tf.placeholder(tf.float32, [None, n_output], name=\"CNN_TARGET_y\")\n",
    "    keepratio = tf.placeholder(tf.float32, name=\"CNN_DROPOUT_keepratio\")\n",
    "        \n",
    "    pred = conv_basic(x, weights, biases, keepratio)['out']\n",
    "    cost = tf.reduce_mean(tf.nn.softmax_cross_entropy_with_logits(logits=pred, labels=y))\n",
    "    optm = tf.train.AdamOptimizer(learning_rate=learning_rate).minimize(cost)\n",
    "    corr = tf.equal(tf.argmax(pred, 1), tf.argmax(y,1))\n",
    "    accr = tf.reduce_mean(tf.cast(corr,tf.float32))\n",
    "    init = tf.initialize_all_variables()\n"
   ]
  },
  {
   "cell_type": "code",
   "execution_count": 3,
   "metadata": {
    "collapsed": false
   },
   "outputs": [],
   "source": [
    "\n",
    "sess = tf.Session()\n",
    "sess.run(init)\n",
    "\n",
    "tf.summary.scalar('cross_entropy', cost)\n",
    "tf.summary.scalar('accuracy', accr)\n",
    "merged = tf.summary.merge_all()\n",
    "summary_writer = tf.summary.FileWriter('/tmp/tf_logs/cnn_mnist', graph=sess.graph)\n"
   ]
  },
  {
   "cell_type": "code",
   "execution_count": 4,
   "metadata": {
    "collapsed": false
   },
   "outputs": [
    {
     "name": "stdout",
     "output_type": "stream",
     "text": [
      "Epoch: 000/020 cost: 0.703537516\n",
      " Training accuracy: 0.900\n",
      " Test accuracy: 0.936\n",
      "Epoch: 005/020 cost: 0.046742439\n",
      " Training accuracy: 0.990\n",
      " Test accuracy: 0.984\n",
      "Epoch: 010/020 cost: 0.037786097\n",
      " Training accuracy: 0.980\n",
      " Test accuracy: 0.984\n",
      "Epoch: 015/020 cost: 0.036599592\n",
      " Training accuracy: 0.980\n",
      " Test accuracy: 0.986\n",
      "Optimization Finished.\n"
     ]
    }
   ],
   "source": [
    "device_type = \"/gpu:0\"\n",
    "with tf.device(device_type):\n",
    "\n",
    "    for epoch in range(training_epochs):\n",
    "        avg_cost = 0.\n",
    "        total_batch = int(mnist.train.num_examples/batch_size)\n",
    "        # Loop over all batches\n",
    "        for i in range(total_batch):\n",
    "            batch_xs, batch_ys = mnist.train.next_batch(batch_size)\n",
    "            # Fit training using batch data\n",
    "            summary, _ = sess.run([merged, optm]\n",
    "                            , feed_dict={x: batch_xs, y: batch_ys, keepratio:0.7})\n",
    "            # Compute average loss\n",
    "            avg_cost += sess.run(cost\n",
    "                    , feed_dict={x: batch_xs, y: batch_ys, keepratio:1.})/total_batch\n",
    "            # Add summary\n",
    "            summary_writer.add_summary(summary, epoch*total_batch+i)\n",
    "        # Display logs per epoch step\n",
    "        if epoch % display_step == 0: \n",
    "            print (\"Epoch: %03d/%03d cost: %.9f\" % (epoch, training_epochs, avg_cost))\n",
    "            train_acc = sess.run(accr, feed_dict={x: batch_xs, y: batch_ys, keepratio:1.})\n",
    "            print (\" Training accuracy: %.3f\" % (train_acc))\n",
    "            test_acc = sess.run(accr, feed_dict={x: testimg, y: testlabel, keepratio:1.})\n",
    "            print (\" Test accuracy: %.3f\" % (test_acc))\n",
    "\n",
    "    print (\"Optimization Finished.\")"
   ]
  },
  {
   "cell_type": "code",
   "execution_count": 8,
   "metadata": {
    "collapsed": true
   },
   "outputs": [],
   "source": [
    "summary_path = '/tmp/tf_logs/cnn_mnist'"
   ]
  },
  {
   "cell_type": "code",
   "execution_count": 9,
   "metadata": {
    "collapsed": false
   },
   "outputs": [
    {
     "ename": "SyntaxError",
     "evalue": "invalid syntax (<ipython-input-9-c18219ca0171>, line 1)",
     "output_type": "error",
     "traceback": [
      "\u001b[0;36m  File \u001b[0;32m\"<ipython-input-9-c18219ca0171>\"\u001b[0;36m, line \u001b[0;32m1\u001b[0m\n\u001b[0;31m    tensorboard --logdir=/tmp/tf_logs/cnn_mnist\u001b[0m\n\u001b[0m                         ^\u001b[0m\n\u001b[0;31mSyntaxError\u001b[0m\u001b[0;31m:\u001b[0m invalid syntax\n"
     ]
    }
   ],
   "source": []
  },
  {
   "cell_type": "code",
   "execution_count": null,
   "metadata": {
    "collapsed": true
   },
   "outputs": [],
   "source": []
  }
 ],
 "metadata": {
  "kernelspec": {
   "display_name": "Python 2",
   "language": "python",
   "name": "python2"
  },
  "language_info": {
   "codemirror_mode": {
    "name": "ipython",
    "version": 2
   },
   "file_extension": ".py",
   "mimetype": "text/x-python",
   "name": "python",
   "nbconvert_exporter": "python",
   "pygments_lexer": "ipython2",
   "version": "2.7.12"
  }
 },
 "nbformat": 4,
 "nbformat_minor": 2
}
